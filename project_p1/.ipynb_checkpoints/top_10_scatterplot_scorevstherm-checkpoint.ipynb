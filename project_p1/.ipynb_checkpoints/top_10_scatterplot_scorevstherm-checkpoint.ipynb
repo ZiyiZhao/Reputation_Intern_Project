{
 "cells": [
  {
   "cell_type": "code",
   "execution_count": null,
   "metadata": {
    "collapsed": true
   },
   "outputs": [],
   "source": [
    "import pandas as pd\n",
    "import seaborn as sns\n",
    "%matplotlib inline\n",
    "\n",
    "pd.options.display.max_columns = 70\n",
    "pd.options.display.max_rows = 20\n",
    "\n",
    "top10_data_industry = pd.read_csv('top_10.csv', header = None)\n",
    "top10_data_industry = top10_data_industry.transpose()\n",
    "\n",
    "top10_data_industry.columns = top10_data_industry.iloc[0] # set column header\n",
    "top10_data_industry = top10_data_industry.drop(0) # drop duplicated row\n",
    "top10_data_industry['cat'] = \"top 10\" # create top/overall cat\n",
    "\n",
    "top10_data_industry.rename(columns={'industry':'thermometer'}, inplace=True)\n",
    "\n",
    "top100_data_industry = pd.read_csv('top_100.csv', header = None)\n",
    "top100_data_industry = top100_data_industry.transpose()\n",
    "\n",
    "top100_data_industry.columns = top100_data_industry.iloc[0] # set column header\n",
    "top100_data_industry = top100_data_industry.drop(0) # drop duplicated row\n",
    "top100_data_industry['cat'] = \"top 100\" # create top/overall cat\n",
    "\n",
    "top100_data_industry.rename(columns={'industry':'thermometer'}, inplace=True)\n",
    "\n",
    "top10_data_industry\n",
    "\n",
    "top10_data_industry = pd.melt(top10_data_industry, id_vars=['thermometer', 'cat'], value_vars=['automotive-automotive-other'])\n",
    "#top100_data_industry = pd.melt(top100_data_industry, id_vars=['thermometer', 'cat'], value_vars=['automotive-automotive-other'])\n",
    "\n",
    "top10_data_industry\n",
    "#result = top10_data_industry.append(top100_data_industry)\n",
    "\n",
    "#result"
   ]
  }
 ],
 "metadata": {
  "kernelspec": {
   "display_name": "Python 2",
   "language": "python",
   "name": "python2"
  },
  "language_info": {
   "codemirror_mode": {
    "name": "ipython",
    "version": 2
   },
   "file_extension": ".py",
   "mimetype": "text/x-python",
   "name": "python",
   "nbconvert_exporter": "python",
   "pygments_lexer": "ipython2",
   "version": "2.7.11"
  }
 },
 "nbformat": 4,
 "nbformat_minor": 0
}
