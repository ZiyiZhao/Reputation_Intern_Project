{
 "cells": [
  {
   "cell_type": "code",
   "execution_count": 10,
   "metadata": {
    "collapsed": false,
    "scrolled": true
   },
   "outputs": [
    {
     "data": {
      "text/html": [
       "<div>\n",
       "<table border=\"1\" class=\"dataframe\">\n",
       "  <thead>\n",
       "    <tr style=\"text-align: right;\">\n",
       "      <th></th>\n",
       "      <th>industry</th>\n",
       "      <th>a_weighted_rating</th>\n",
       "      <th>a_visibility</th>\n",
       "      <th>a_spread</th>\n",
       "      <th>a_volume</th>\n",
       "      <th>a_time</th>\n",
       "      <th>a_length</th>\n",
       "      <th>a_score</th>\n",
       "      <th>cat</th>\n",
       "    </tr>\n",
       "  </thead>\n",
       "  <tbody>\n",
       "    <tr>\n",
       "      <th>0</th>\n",
       "      <td>health-care-hospitals-&amp;-facilities</td>\n",
       "      <td>0.931021</td>\n",
       "      <td>0</td>\n",
       "      <td>0.617336</td>\n",
       "      <td>0.496222</td>\n",
       "      <td>0.838095</td>\n",
       "      <td>0.704302</td>\n",
       "      <td>0.776028</td>\n",
       "      <td>top</td>\n",
       "    </tr>\n",
       "    <tr>\n",
       "      <th>1</th>\n",
       "      <td>technology-electronics</td>\n",
       "      <td>0.000000</td>\n",
       "      <td>0</td>\n",
       "      <td>0.000000</td>\n",
       "      <td>0.000000</td>\n",
       "      <td>0.000000</td>\n",
       "      <td>0.000000</td>\n",
       "      <td>0.002926</td>\n",
       "      <td>top</td>\n",
       "    </tr>\n",
       "    <tr>\n",
       "      <th>2</th>\n",
       "      <td>health-care-pediatricians</td>\n",
       "      <td>0.587886</td>\n",
       "      <td>0</td>\n",
       "      <td>0.523502</td>\n",
       "      <td>0.330401</td>\n",
       "      <td>0.442857</td>\n",
       "      <td>0.517558</td>\n",
       "      <td>0.473811</td>\n",
       "      <td>top</td>\n",
       "    </tr>\n",
       "    <tr>\n",
       "      <th>3</th>\n",
       "      <td>financial-services-banks</td>\n",
       "      <td>0.867468</td>\n",
       "      <td>0</td>\n",
       "      <td>0.579889</td>\n",
       "      <td>0.385984</td>\n",
       "      <td>0.496429</td>\n",
       "      <td>0.555575</td>\n",
       "      <td>0.670672</td>\n",
       "      <td>top</td>\n",
       "    </tr>\n",
       "    <tr>\n",
       "      <th>4</th>\n",
       "      <td>retail-supermarkets</td>\n",
       "      <td>0.908066</td>\n",
       "      <td>0</td>\n",
       "      <td>0.820729</td>\n",
       "      <td>0.849635</td>\n",
       "      <td>0.933333</td>\n",
       "      <td>0.604292</td>\n",
       "      <td>0.863114</td>\n",
       "      <td>top</td>\n",
       "    </tr>\n",
       "  </tbody>\n",
       "</table>\n",
       "</div>"
      ],
      "text/plain": [
       "                             industry  a_weighted_rating  a_visibility  \\\n",
       "0  health-care-hospitals-&-facilities           0.931021             0   \n",
       "1              technology-electronics           0.000000             0   \n",
       "2           health-care-pediatricians           0.587886             0   \n",
       "3            financial-services-banks           0.867468             0   \n",
       "4                 retail-supermarkets           0.908066             0   \n",
       "\n",
       "   a_spread  a_volume    a_time  a_length   a_score  cat  \n",
       "0  0.617336  0.496222  0.838095  0.704302  0.776028  top  \n",
       "1  0.000000  0.000000  0.000000  0.000000  0.002926  top  \n",
       "2  0.523502  0.330401  0.442857  0.517558  0.473811  top  \n",
       "3  0.579889  0.385984  0.496429  0.555575  0.670672  top  \n",
       "4  0.820729  0.849635  0.933333  0.604292  0.863114  top  "
      ]
     },
     "execution_count": 10,
     "metadata": {},
     "output_type": "execute_result"
    }
   ],
   "source": [
    "import pandas as pd\n",
    "import seaborn as sns\n",
    "%matplotlib inline\n",
    "\n",
    "top10_data = pd.read_csv('top_avgs.csv')\n",
    "top10_data['cat'] = \"top\"\n",
    "top10_data.head()"
   ]
  },
  {
   "cell_type": "code",
   "execution_count": 11,
   "metadata": {
    "collapsed": false
   },
   "outputs": [
    {
     "data": {
      "text/html": [
       "<div>\n",
       "<table border=\"1\" class=\"dataframe\">\n",
       "  <thead>\n",
       "    <tr style=\"text-align: right;\">\n",
       "      <th></th>\n",
       "      <th>industry</th>\n",
       "      <th>a_weighted_rating</th>\n",
       "      <th>a_visibility</th>\n",
       "      <th>a_spread</th>\n",
       "      <th>a_volume</th>\n",
       "      <th>a_time</th>\n",
       "      <th>a_length</th>\n",
       "      <th>a_score</th>\n",
       "      <th>cat</th>\n",
       "    </tr>\n",
       "  </thead>\n",
       "  <tbody>\n",
       "    <tr>\n",
       "      <th>63</th>\n",
       "      <td>pets-pets-other</td>\n",
       "      <td>0.559829</td>\n",
       "      <td>0</td>\n",
       "      <td>0.209375</td>\n",
       "      <td>0.146000</td>\n",
       "      <td>0.190476</td>\n",
       "      <td>0.401606</td>\n",
       "      <td>0.261336</td>\n",
       "      <td>overall</td>\n",
       "    </tr>\n",
       "    <tr>\n",
       "      <th>64</th>\n",
       "      <td>retail-special-services</td>\n",
       "      <td>0.341578</td>\n",
       "      <td>0</td>\n",
       "      <td>0.522587</td>\n",
       "      <td>0.123325</td>\n",
       "      <td>0.190922</td>\n",
       "      <td>0.450381</td>\n",
       "      <td>0.211225</td>\n",
       "      <td>overall</td>\n",
       "    </tr>\n",
       "    <tr>\n",
       "      <th>65</th>\n",
       "      <td>health-care-plastic-&amp;-cosmetic-surgeons</td>\n",
       "      <td>0.614786</td>\n",
       "      <td>0</td>\n",
       "      <td>0.312733</td>\n",
       "      <td>0.204211</td>\n",
       "      <td>0.480519</td>\n",
       "      <td>0.638486</td>\n",
       "      <td>0.407328</td>\n",
       "      <td>overall</td>\n",
       "    </tr>\n",
       "    <tr>\n",
       "      <th>66</th>\n",
       "      <td>automotive-rental</td>\n",
       "      <td>0.530944</td>\n",
       "      <td>0</td>\n",
       "      <td>0.514603</td>\n",
       "      <td>0.149779</td>\n",
       "      <td>0.244064</td>\n",
       "      <td>0.444598</td>\n",
       "      <td>0.335367</td>\n",
       "      <td>overall</td>\n",
       "    </tr>\n",
       "    <tr>\n",
       "      <th>67</th>\n",
       "      <td>restaurants-restaurants-other</td>\n",
       "      <td>0.231049</td>\n",
       "      <td>0</td>\n",
       "      <td>0.171049</td>\n",
       "      <td>0.012693</td>\n",
       "      <td>0.030979</td>\n",
       "      <td>0.181947</td>\n",
       "      <td>0.062320</td>\n",
       "      <td>overall</td>\n",
       "    </tr>\n",
       "  </tbody>\n",
       "</table>\n",
       "</div>"
      ],
      "text/plain": [
       "                                   industry  a_weighted_rating  a_visibility  \\\n",
       "63                          pets-pets-other           0.559829             0   \n",
       "64                  retail-special-services           0.341578             0   \n",
       "65  health-care-plastic-&-cosmetic-surgeons           0.614786             0   \n",
       "66                        automotive-rental           0.530944             0   \n",
       "67            restaurants-restaurants-other           0.231049             0   \n",
       "\n",
       "    a_spread  a_volume    a_time  a_length   a_score      cat  \n",
       "63  0.209375  0.146000  0.190476  0.401606  0.261336  overall  \n",
       "64  0.522587  0.123325  0.190922  0.450381  0.211225  overall  \n",
       "65  0.312733  0.204211  0.480519  0.638486  0.407328  overall  \n",
       "66  0.514603  0.149779  0.244064  0.444598  0.335367  overall  \n",
       "67  0.171049  0.012693  0.030979  0.181947  0.062320  overall  "
      ]
     },
     "execution_count": 11,
     "metadata": {},
     "output_type": "execute_result"
    }
   ],
   "source": [
    "overall_data = pd.read_csv('overall_avgs.csv')\n",
    "overall_data['cat'] = \"overall\"\n",
    "overall_data.tail()"
   ]
  },
  {
   "cell_type": "code",
   "execution_count": 17,
   "metadata": {
    "collapsed": false
   },
   "outputs": [
    {
     "data": {
      "text/plain": [
       "dtype('float64')"
      ]
     },
     "execution_count": 17,
     "metadata": {},
     "output_type": "execute_result"
    }
   ],
   "source": [
    "result = top10_data.append(overall_data)\n",
    "result[\"a_score\"].dtype\n"
   ]
  },
  {
   "cell_type": "code",
   "execution_count": 13,
   "metadata": {
    "collapsed": false
   },
   "outputs": [
    {
     "name": "stderr",
     "output_type": "stream",
     "text": [
      "/Users/zzhao/anaconda/lib/python3.5/site-packages/matplotlib/__init__.py:892: UserWarning: axes.color_cycle is deprecated and replaced with axes.prop_cycle; please use the latter.\n",
      "  warnings.warn(self.msg_depr % (key, alt_key))\n"
     ]
    },
    {
     "data": {
      "text/plain": [
       "<matplotlib.axes._subplots.AxesSubplot at 0x10ea89cc0>"
      ]
     },
     "execution_count": 13,
     "metadata": {},
     "output_type": "execute_result"
    },
    {
     "data": {
      "image/png": "[encoded data removed]",
      "text/plain": [
       "<matplotlib.figure.Figure at 0x10ea5f208>"
      ]
     },
     "metadata": {},
     "output_type": "display_data"
    }
   ],
   "source": [
    "sns.barplot(data = result, x=\"industry\", y=\"a_score\", hue=\"cat\")"
   ]
  },
  {
   "cell_type": "code",
   "execution_count": null,
   "metadata": {
    "collapsed": true
   },
   "outputs": [],
   "source": []
  }
 ],
 "metadata": {
  "kernelspec": {
   "display_name": "Python 3",
   "language": "python",
   "name": "python3"
  },
  "language_info": {
   "codemirror_mode": {
    "name": "ipython",
    "version": 3
   },
   "file_extension": ".py",
   "mimetype": "text/x-python",
   "name": "python",
   "nbconvert_exporter": "python",
   "pygments_lexer": "ipython3",
   "version": "3.5.1"
  }
 },
 "nbformat": 4,
 "nbformat_minor": 0
}
